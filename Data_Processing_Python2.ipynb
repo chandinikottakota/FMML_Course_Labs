{
  "nbformat": 4,
  "nbformat_minor": 0,
  "metadata": {
    "colab": {
      "provenance": []
    },
    "kernelspec": {
      "name": "python3",
      "display_name": "Python 3"
    },
    "language_info": {
      "name": "python"
    }
  },
  "cells": [
    {
      "cell_type": "code",
      "execution_count": 1,
      "metadata": {
        "id": "WbmBj_gumitO"
      },
      "outputs": [],
      "source": [
        "import numpy as np\n",
        "#NumPy can be used to perform a wide variety of mathematical operations on arrays\n",
        "import matplotlib.pyplot as plt\n",
        "#matplotlib is used for plotting the data\n",
        "import cv2 as cv\n",
        "#OpenCV-Python is a library of Python bindings designed to solve computer vision problems.cv2 is the one of the module name in opencv\n",
        "from google.colab.patches import cv2_imshow\n",
        "#cv2. imshow() method is used to display an image in a window. The window automatically fits to the image size"
      ]
    },
    {
      "cell_type": "code",
      "source": [
        "test_data = np.arange(10,30, 2)\n",
        "#here we are arange the data using the numpy (start,ending,stepping)"
      ],
      "metadata": {
        "id": "OWx8q2wHmov0"
      },
      "execution_count": null,
      "outputs": []
    },
    {
      "cell_type": "code",
      "source": [
        "print(test_data)"
      ],
      "metadata": {
        "id": "x6yfWlT7mos7"
      },
      "execution_count": null,
      "outputs": []
    },
    {
      "cell_type": "code",
      "source": [
        "test_data = np.linspace(1,10, 200) + np.random.rand(200)\n",
        "#linspace is an in-built function in Python's NumPy library. It is used to create an evenly spaced sequence in a specified interval."
      ],
      "metadata": {
        "id": "_dNRTlRgmoof"
      },
      "execution_count": null,
      "outputs": []
    },
    {
      "cell_type": "code",
      "source": [
        "test_data"
      ],
      "metadata": {
        "id": "HrhOFM94monN"
      },
      "execution_count": null,
      "outputs": []
    },
    {
      "cell_type": "code",
      "source": [
        "plt.plot(np.sin(test_data), color='green')\n",
        "plt.plot(np.cos(test_data), color='orange')\n",
        "#plottting using colors sin means x-axis and cos means y-axis\n",
        "plt.savefig('noisysineandcosine.jpg')\n",
        "#savefig() is used to saving the image"
      ],
      "metadata": {
        "id": "aTbsK9FZmojO"
      },
      "execution_count": null,
      "outputs": []
    },
    {
      "cell_type": "code",
      "source": [
        "!wget https://upload.wikimedia.org/wikipedia/commons/thumb/b/b6/Queen_Elizabeth_II_in_March_2015.jpg/182px-Queen_Elizabeth_II_in_March_2015.jpg\n",
        "#here we are getting the image link"
      ],
      "metadata": {
        "id": "Fpui_hU6mohf"
      },
      "execution_count": null,
      "outputs": []
    },
    {
      "cell_type": "code",
      "source": [
        "!mv 182* queen.jpg\n",
        "#182 is the pixel of the image in this we are changing the image name"
      ],
      "metadata": {
        "id": "M2KBmBuOmodW"
      },
      "execution_count": null,
      "outputs": []
    },
    {
      "cell_type": "code",
      "source": [
        "image_data = cv.imread('queen.jpg', 1)\n",
        "'''cv2. imread() method loads an image from the specified file. \n",
        "If the image cannot be read (because of missing file, improper permissions, unsupported or invalid format) then this method returns an empty matrix.\n",
        "'''"
      ],
      "metadata": {
        "id": "iInc41CEmobD"
      },
      "execution_count": null,
      "outputs": []
    },
    {
      "cell_type": "code",
      "source": [
        "rows, cols, channels = image_data.shape\n",
        "#shape of the image"
      ],
      "metadata": {
        "id": "9q1_hYhGmoXD"
      },
      "execution_count": null,
      "outputs": []
    },
    {
      "cell_type": "code",
      "source": [
        "print (rows, cols, channels)"
      ],
      "metadata": {
        "id": "fvGeb-HUmoUx"
      },
      "execution_count": null,
      "outputs": []
    },
    {
      "cell_type": "code",
      "source": [
        "print(image_data)"
      ],
      "metadata": {
        "id": "xwZzvcg0moQ7"
      },
      "execution_count": null,
      "outputs": []
    },
    {
      "cell_type": "code",
      "source": [
        "two_horizontal_queens = np.hstack((image_data, image_data))\n",
        "#hstack() function is used to stack the sequence of input arrays horizontally (i.e. column wise) to make a single array."
      ],
      "metadata": {
        "id": "ZoFhR3R8moO_"
      },
      "execution_count": null,
      "outputs": []
    },
    {
      "cell_type": "code",
      "source": [
        "cv2_imshow(two_horizontal_queens)\n",
        "cv.imwrite('two-queens.jpg', two_horizontal_queens)\n",
        "#cv2. imwrite() method is used to save an image to any storage device."
      ],
      "metadata": {
        "id": "Ujc_YdDMmoK5"
      },
      "execution_count": null,
      "outputs": []
    },
    {
      "cell_type": "code",
      "source": [
        "# slicing in Numerical Python\n",
        "slice_portion = two_horizontal_queens[0:rows, cols:cols+cols, 0:channels]"
      ],
      "metadata": {
        "id": "PCiHs8RSmoJP"
      },
      "execution_count": null,
      "outputs": []
    },
    {
      "cell_type": "code",
      "source": [
        "slice_portion.shape"
      ],
      "metadata": {
        "id": "6YmlH6yVmoE3"
      },
      "execution_count": null,
      "outputs": []
    },
    {
      "cell_type": "code",
      "source": [
        "cv2_imshow(slice_portion)"
      ],
      "metadata": {
        "id": "SleHtL-4moDR"
      },
      "execution_count": null,
      "outputs": []
    },
    {
      "cell_type": "code",
      "source": [
        "blurred_slice_portion = cv.blur(slice_portion, (5, 5))\n",
        "#blurring the image"
      ],
      "metadata": {
        "id": "iGKB7tyqmn_O"
      },
      "execution_count": null,
      "outputs": []
    },
    {
      "cell_type": "code",
      "source": [
        "cv2_imshow(blurred_slice_portion)"
      ],
      "metadata": {
        "id": "ppWBDsunmn9n"
      },
      "execution_count": null,
      "outputs": []
    },
    {
      "cell_type": "code",
      "source": [
        "cv2_imshow(two_horizontal_queens)"
      ],
      "metadata": {
        "id": "1ru_4VG0mn5w"
      },
      "execution_count": null,
      "outputs": []
    },
    {
      "cell_type": "code",
      "source": [
        "two_horizontal_queens[0:rows, cols:cols+cols, 0:channels]  = blurred_slice_portion"
      ],
      "metadata": {
        "id": "VXTVZloRmn3-"
      },
      "execution_count": null,
      "outputs": []
    },
    {
      "cell_type": "code",
      "source": [
        "cv2_imshow(two_horizontal_queens)"
      ],
      "metadata": {
        "id": "3PkENR7MnuY_"
      },
      "execution_count": null,
      "outputs": []
    }
  ]
}