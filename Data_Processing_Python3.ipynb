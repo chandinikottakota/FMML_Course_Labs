{
  "nbformat": 4,
  "nbformat_minor": 0,
  "metadata": {
    "colab": {
      "provenance": []
    },
    "kernelspec": {
      "name": "python3",
      "display_name": "Python 3"
    },
    "language_info": {
      "name": "python"
    }
  },
  "cells": [
    {
      "cell_type": "code",
      "execution_count": null,
      "metadata": {
        "id": "U3jhIYZ3ASWy"
      },
      "outputs": [],
      "source": [
        "#two lists are adding the elements\n",
        "[1,2,3]+[2,3,4]"
      ]
    },
    {
      "cell_type": "code",
      "source": [
        "import numpy as np\n",
        "#numpy is used for matrix\n",
        "import matplotlib.pyplot as plt\n",
        "#matplotlib is used for the plotting the data\n",
        "import pandas as pd\n",
        "#pandas is used for dataframes.Pandas is the best tool for handling this real-world messy data. \n",
        "import seaborn as sns\n",
        "#It is used for data visualization and exploratory data analysis. Seaborn works easily with dataframes and the Pandas library. The graphs created can also be customized\n"
      ],
      "metadata": {
        "id": "4uMzsPNwAcYg"
      },
      "execution_count": 5,
      "outputs": []
    },
    {
      "cell_type": "code",
      "source": [
        "np.array([1,2,3])+np.array([2,3,4])\n",
        "#using numpy adding the elements"
      ],
      "metadata": {
        "id": "I5Wq2oqxQxj2"
      },
      "execution_count": null,
      "outputs": []
    },
    {
      "cell_type": "code",
      "source": [
        "some_data=pd.Series(np.arange(1,6))\n",
        "#arranging the data in dataframe in the range of 1,6"
      ],
      "metadata": {
        "id": "kHzYh--iAeul"
      },
      "execution_count": 7,
      "outputs": []
    },
    {
      "cell_type": "code",
      "source": [
        "some_data"
      ],
      "metadata": {
        "id": "QktCJPYLAeqj"
      },
      "execution_count": null,
      "outputs": []
    },
    {
      "cell_type": "code",
      "source": [
        "some_data=pd.Series(np.random.rand(10))\n",
        "#creating the dataframe from the random integer 10"
      ],
      "metadata": {
        "id": "L_pJJOW7Aeoy"
      },
      "execution_count": 9,
      "outputs": []
    },
    {
      "cell_type": "code",
      "source": [
        "some_data"
      ],
      "metadata": {
        "id": "poWXd0IMAedZ"
      },
      "execution_count": null,
      "outputs": []
    },
    {
      "cell_type": "code",
      "source": [
        "stockmarket_data=pd.Series(np.random.randn(1000))\n",
        "# series is used for to hold one-dimensional data in pandas"
      ],
      "metadata": {
        "id": "QlfvTMZ-Aeai"
      },
      "execution_count": 12,
      "outputs": []
    },
    {
      "cell_type": "code",
      "source": [
        "stockmarket_cumulative=stockmarket_data.cumsum() \n",
        "#The cumsum() method returns a DataFrame with the cumulative sum for each row"
      ],
      "metadata": {
        "id": "yyF0LHRSAeWd"
      },
      "execution_count": 13,
      "outputs": []
    },
    {
      "cell_type": "code",
      "source": [
        "stockmarket_cumulative.plot()\n",
        "#plotting the data of stock market"
      ],
      "metadata": {
        "id": "yV_8tx9ZAeUn"
      },
      "execution_count": null,
      "outputs": []
    },
    {
      "cell_type": "code",
      "source": [
        "stock_prices=pd.DataFrame(np.random.rand(1000,3))\n",
        "#creating a dataframe 1000 rows and 3 columns"
      ],
      "metadata": {
        "id": "1aLlsxPeAeQo"
      },
      "execution_count": 26,
      "outputs": []
    },
    {
      "cell_type": "code",
      "source": [
        "stock_prices"
      ],
      "metadata": {
        "id": "kJy-WqfkAeOv"
      },
      "execution_count": null,
      "outputs": []
    },
    {
      "cell_type": "code",
      "source": [
        "stock_prices.columns=['India','Pakisthan','Bhutan']\n",
        "#changing the column names 0,1,2 to india,pakisthan,Bhutan"
      ],
      "metadata": {
        "id": "fm7OcSfmAeK1"
      },
      "execution_count": 28,
      "outputs": []
    },
    {
      "cell_type": "code",
      "source": [
        "stock_prices"
      ],
      "metadata": {
        "id": "fWKz8HefAeIp"
      },
      "execution_count": null,
      "outputs": []
    },
    {
      "cell_type": "code",
      "source": [
        "stock_prices.to_csv('stock.csv')\n",
        "#Here we are taking the stock.csv"
      ],
      "metadata": {
        "id": "JtFG4Aw_GQ9Q"
      },
      "execution_count": 40,
      "outputs": []
    },
    {
      "cell_type": "code",
      "source": [
        "stock_prices.index=pd.date_range('1/1/2021',periods=1000)#here we can give 1000"
      ],
      "metadata": {
        "id": "_2mmkeL1Ad7t"
      },
      "execution_count": 33,
      "outputs": []
    },
    {
      "cell_type": "code",
      "source": [
        "stock_prices"
      ],
      "metadata": {
        "id": "jHxqideJAd4G"
      },
      "execution_count": null,
      "outputs": []
    },
    {
      "cell_type": "code",
      "source": [
        "stock_prices_cumulative = stock_prices.cumsum()"
      ],
      "metadata": {
        "id": "hqWKjoDjAd16"
      },
      "execution_count": 35,
      "outputs": []
    },
    {
      "cell_type": "code",
      "source": [
        "stock_prices_cumulative.plot()\n",
        "#plotting the graph"
      ],
      "metadata": {
        "id": "soDHJy_rAdwJ"
      },
      "execution_count": null,
      "outputs": []
    },
    {
      "cell_type": "code",
      "source": [
        "!wget https://raw.githubusercontent.com/ckrihub/bridge-sessions/main/ToyotaCorolla.csv\n",
        "#taking the toyotacorolla data"
      ],
      "metadata": {
        "id": "cy5u9rsoAdsW"
      },
      "execution_count": null,
      "outputs": []
    },
    {
      "cell_type": "code",
      "source": [
        "car_data=pd.read_csv('ToyotaCorolla.csv')\n",
        "#we are opening in reading mode"
      ],
      "metadata": {
        "id": "5pIs9nL6Adoe"
      },
      "execution_count": 42,
      "outputs": []
    },
    {
      "cell_type": "code",
      "source": [
        "car_data.tail()"
      ],
      "metadata": {
        "id": "vmoa-IqQAdjv"
      },
      "execution_count": null,
      "outputs": []
    },
    {
      "cell_type": "code",
      "source": [
        "car_data.describe()\n",
        "#return everything in car_data"
      ],
      "metadata": {
        "id": "l2pfjqfQAdXy"
      },
      "execution_count": null,
      "outputs": []
    },
    {
      "cell_type": "code",
      "source": [
        "car_data.columns\n",
        "#return column names"
      ],
      "metadata": {
        "id": "PuKemqULH510"
      },
      "execution_count": null,
      "outputs": []
    },
    {
      "cell_type": "code",
      "source": [
        "car_data.size\n",
        "#return the size"
      ],
      "metadata": {
        "id": "A1R7ezuTH5xc"
      },
      "execution_count": null,
      "outputs": []
    },
    {
      "cell_type": "code",
      "source": [
        "car_data.count()\n",
        "#count of the car data of columns"
      ],
      "metadata": {
        "id": "BWNxGpJaH5wN"
      },
      "execution_count": null,
      "outputs": []
    },
    {
      "cell_type": "code",
      "source": [
        "car_data.drop_duplicates(inplace=True)\n",
        "#Here we are return the duplicate values"
      ],
      "metadata": {
        "id": "UZML2YhSH5r5"
      },
      "execution_count": 59,
      "outputs": []
    },
    {
      "cell_type": "code",
      "source": [
        "car_data.sort_values('Price',inplace=True)\n",
        "#price values are in ascending order"
      ],
      "metadata": {
        "id": "tfkWiScmH5qL"
      },
      "execution_count": 49,
      "outputs": []
    },
    {
      "cell_type": "code",
      "source": [
        "car_data"
      ],
      "metadata": {
        "id": "yO6i4aoKH5l1"
      },
      "execution_count": null,
      "outputs": []
    },
    {
      "cell_type": "code",
      "source": [
        "plt.scatter(car_data['Price'],car_data['Age'])\n",
        "#plotting the data price and age"
      ],
      "metadata": {
        "id": "Z20GVJGoH5j8"
      },
      "execution_count": null,
      "outputs": []
    },
    {
      "cell_type": "code",
      "source": [
        "plt.scatter(car_data['Age'],car_data['Price'])\n",
        "#scatter plotting the age and price"
      ],
      "metadata": {
        "id": "tj3fq7hoIq6G"
      },
      "execution_count": null,
      "outputs": []
    },
    {
      "cell_type": "code",
      "source": [
        "plt.hist(car_data['Price'],bins=1000)\n",
        "#hist() function is used to compute and create histogram of x."
      ],
      "metadata": {
        "id": "XYJZu6CNIq3H"
      },
      "execution_count": null,
      "outputs": []
    },
    {
      "cell_type": "code",
      "source": [
        "sns.regplot(x=car_data['Price'],y=car_data['Age'])\n",
        "#This method is used to plot data and a linear regression model fit."
      ],
      "metadata": {
        "id": "81LMT9A6Iqw8"
      },
      "execution_count": null,
      "outputs": []
    },
    {
      "cell_type": "code",
      "source": [
        "sns.lmplot(x='Price',y='Age',data=car_data, hue='FuelType')\n",
        "#lmplot() method is used to draw a scatter plot onto a FacetGrid. Parameters"
      ],
      "metadata": {
        "id": "LIzCuvvzIquG"
      },
      "execution_count": null,
      "outputs": []
    },
    {
      "cell_type": "code",
      "source": [
        "sns.pairplot(car_data,hue='FuelType')\n",
        "#The pairplot() function can also be used to showcase the subset of variables, or we can plot different types of variables on rows and columns"
      ],
      "metadata": {
        "id": "CoZcdozfIqqB"
      },
      "execution_count": null,
      "outputs": []
    }
  ]
}